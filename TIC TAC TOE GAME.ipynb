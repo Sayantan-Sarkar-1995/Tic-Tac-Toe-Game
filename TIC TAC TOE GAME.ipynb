{
 "cells": [
  {
   "cell_type": "code",
   "execution_count": 1,
   "metadata": {},
   "outputs": [],
   "source": [
    "board = [\" \" for i in range(9)]"
   ]
  },
  {
   "cell_type": "code",
   "execution_count": 2,
   "metadata": {},
   "outputs": [],
   "source": [
    "#Using for Loop\n",
    "def print_board():\n",
    "    print()\n",
    "    for i in range(3):\n",
    "        row = \"| {} | {} | {} |\".format(board[3*i], board[(3*i)+1], board[(3*i)+2])\n",
    "        print(row)\n",
    "    print()"
   ]
  },
  {
   "cell_type": "code",
   "execution_count": 3,
   "metadata": {},
   "outputs": [
    {
     "name": "stdout",
     "output_type": "stream",
     "text": [
      "\n",
      "|   |   |   |\n",
      "|   |   |   |\n",
      "|   |   |   |\n",
      "\n"
     ]
    }
   ],
   "source": [
    "print_board()"
   ]
  },
  {
   "cell_type": "code",
   "execution_count": 4,
   "metadata": {},
   "outputs": [],
   "source": [
    "def player_move(icon):\n",
    "    if icon == \"X\":\n",
    "        print(\"Your Turn Player 1\")\n",
    "    elif icon == \"O\":\n",
    "        print(\"Your Turn Player 2\")\n",
    "    \n",
    "    choice = int(input(\"Enter Your Move(1-9): \").strip())\n",
    "    \n",
    "    if(board[choice - 1] == \" \"):\n",
    "        board[choice - 1] = icon\n",
    "    else :\n",
    "        print()\n",
    "        print(\"The Space is already taken!!\")"
   ]
  },
  {
   "cell_type": "code",
   "execution_count": 5,
   "metadata": {},
   "outputs": [],
   "source": [
    "def is_win(icon):\n",
    "    if(board[0] == icon and board[1] == icon and board[2] == icon) or \\\n",
    "    (board[3] == icon and board[4] == icon and board[5] == icon) or \\\n",
    "    (board[6] == icon and board[7] == icon and board[8] == icon) or \\\n",
    "    (board[0] == icon and board[3] == icon and board[6] == icon) or \\\n",
    "    (board[1] == icon and board[4] == icon and board[7] == icon) or \\\n",
    "    (board[2] == icon and board[6] == icon and board[8] == icon) or \\\n",
    "    (board[0] == icon and board[4] == icon and board[8] == icon) or \\\n",
    "    (board[2] == icon and board[4] == icon and board[6] == icon) :\n",
    "        return True\n",
    "    else :\n",
    "        return False"
   ]
  },
  {
   "cell_type": "code",
   "execution_count": 6,
   "metadata": {},
   "outputs": [],
   "source": [
    "def is_draw():\n",
    "    if \" \" not in board:\n",
    "        return True\n",
    "    else :\n",
    "        return False"
   ]
  },
  {
   "cell_type": "code",
   "execution_count": 7,
   "metadata": {},
   "outputs": [],
   "source": [
    "#Loop for the Game\n",
    "def game_control():\n",
    "    while True:\n",
    "        print_board()\n",
    "        player_move(\"X\")\n",
    "        print_board()\n",
    "        if is_win(\"X\"):\n",
    "            print(\"X Wins!! Congratulations!!!!\")\n",
    "            break\n",
    "        elif is_draw():\n",
    "            print_board()\n",
    "            print(\"Match Drawn!! Try Another Game !!!\")\n",
    "            break\n",
    "    \n",
    "        player_move(\"O\")\n",
    "        if is_win(\"O\"):\n",
    "            print_board()\n",
    "            print(\"O Wins!! Congratulations!!!!\")\n",
    "            break\n",
    "        elif is_draw():\n",
    "            print_board()\n",
    "            print(\"Match Drawn!! Try Another Game !!!\")\n",
    "            break"
   ]
  },
  {
   "cell_type": "code",
   "execution_count": 11,
   "metadata": {},
   "outputs": [
    {
     "name": "stdout",
     "output_type": "stream",
     "text": [
      "Do You Want to play another game(y/n)? Y\n",
      "\n",
      "|   |   |   |\n",
      "|   |   |   |\n",
      "|   |   |   |\n",
      "\n",
      "Your Turn Player 1\n",
      "Enter Your Move(1-9): 7\n",
      "\n",
      "|   |   |   |\n",
      "|   |   |   |\n",
      "| X |   |   |\n",
      "\n",
      "Your Turn Player 2\n",
      "Enter Your Move(1-9): 2\n",
      "\n",
      "|   | O |   |\n",
      "|   |   |   |\n",
      "| X |   |   |\n",
      "\n",
      "Your Turn Player 1\n",
      "Enter Your Move(1-9): 6\n",
      "\n",
      "|   | O |   |\n",
      "|   |   | X |\n",
      "| X |   |   |\n",
      "\n",
      "Your Turn Player 2\n",
      "Enter Your Move(1-9): 5\n",
      "\n",
      "|   | O |   |\n",
      "|   | O | X |\n",
      "| X |   |   |\n",
      "\n",
      "Your Turn Player 1\n",
      "Enter Your Move(1-9): 8\n",
      "\n",
      "|   | O |   |\n",
      "|   | O | X |\n",
      "| X | X |   |\n",
      "\n",
      "Your Turn Player 2\n",
      "Enter Your Move(1-9): 9\n",
      "\n",
      "|   | O |   |\n",
      "|   | O | X |\n",
      "| X | X | O |\n",
      "\n",
      "Your Turn Player 1\n",
      "Enter Your Move(1-9): 3\n",
      "\n",
      "|   | O | X |\n",
      "|   | O | X |\n",
      "| X | X | O |\n",
      "\n",
      "Your Turn Player 2\n",
      "Enter Your Move(1-9): 1\n",
      "\n",
      "| O | O | X |\n",
      "|   | O | X |\n",
      "| X | X | O |\n",
      "\n",
      "O Wins!! Congratulations!!!!\n",
      "Do You Want to play another game(y/n)? h\n",
      "Invalid Entry\n",
      "Do You Want to play another game(y/n)? N\n",
      "Thank You. See you again Later!!!\n"
     ]
    }
   ],
   "source": [
    "while(True):\n",
    "    play = input(\"Do You Want to play another game(y/n)? \").strip()\n",
    "    if(play == \"y\" or play == \"Y\"):\n",
    "        board = [\" \" for i in range(9)]\n",
    "        game_control()\n",
    "    elif(play == \"N\" or play == \"n\"):\n",
    "        print(\"Thank You. See you again Later!!!\")\n",
    "        break\n",
    "    else:\n",
    "        print(\"Invalid Entry\")"
   ]
  },
  {
   "cell_type": "code",
   "execution_count": null,
   "metadata": {},
   "outputs": [],
   "source": []
  }
 ],
 "metadata": {
  "kernelspec": {
   "display_name": "Python 3",
   "language": "python",
   "name": "python3"
  },
  "language_info": {
   "codemirror_mode": {
    "name": "ipython",
    "version": 3
   },
   "file_extension": ".py",
   "mimetype": "text/x-python",
   "name": "python",
   "nbconvert_exporter": "python",
   "pygments_lexer": "ipython3",
   "version": "3.8.3"
  }
 },
 "nbformat": 4,
 "nbformat_minor": 4
}
